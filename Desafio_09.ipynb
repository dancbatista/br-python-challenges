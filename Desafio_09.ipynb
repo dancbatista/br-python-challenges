{
  "nbformat": 4,
  "nbformat_minor": 0,
  "metadata": {
    "anaconda-cloud": {},
    "kernelspec": {
      "display_name": "Python 3",
      "language": "python",
      "name": "python3"
    },
    "language_info": {
      "codemirror_mode": {
        "name": "ipython",
        "version": 3
      },
      "file_extension": ".py",
      "mimetype": "text/x-python",
      "name": "python",
      "nbconvert_exporter": "python",
      "pygments_lexer": "ipython3",
      "version": "3.6.5"
    },
    "colab": {
      "name": "Desafio 9.ipynb",
      "provenance": [],
      "include_colab_link": true
    }
  },
  "cells": [
    {
      "cell_type": "markdown",
      "metadata": {
        "id": "view-in-github",
        "colab_type": "text"
      },
      "source": [
        "<a href=\"https://colab.research.google.com/github/dancbatista/br-python-challenges/blob/master/Desafio_09.ipynb\" target=\"_parent\"><img src=\"https://colab.research.google.com/assets/colab-badge.svg\" alt=\"Open In Colab\"/></a>"
      ]
    },
    {
      "cell_type": "markdown",
      "metadata": {
        "id": "HpvTpUBGf6Jr"
      },
      "source": [
        "### Desafio 9\n",
        "\n",
        "Escreva uma função que retorne a soma dos múltiplos de 3 e 5 entre 0 e um número limite (parâmetro). Por exemplo, se o limite for 20, ele retornará a soma de 3, 5, 6, 9, 10, 12, 15, 18, 20."
      ]
    },
    {
      "cell_type": "code",
      "metadata": {
        "id": "195C6bw-f6Js",
        "colab": {
          "base_uri": "https://localhost:8080/"
        },
        "outputId": "341ec65f-7b05-435d-e9be-3c639fef2aff"
      },
      "source": [
        "# Seu código\n",
        "def soma_multiplos(limite):\n",
        "  soma = 0\n",
        "  for n in range(limite + 1):\n",
        "    if (n % 3 == 0) or (n % 5 == 0):\n",
        "      soma += n\n",
        "  print(soma)\n",
        "\n",
        "soma_multiplos(20)"
      ],
      "execution_count": 19,
      "outputs": [
        {
          "output_type": "stream",
          "text": [
            "98\n"
          ],
          "name": "stdout"
        }
      ]
    },
    {
      "cell_type": "code",
      "metadata": {
        "id": "a_6aqcKp6wrN"
      },
      "source": [
        ""
      ],
      "execution_count": null,
      "outputs": []
    }
  ]
}