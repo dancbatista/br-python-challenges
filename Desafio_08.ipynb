{
  "nbformat": 4,
  "nbformat_minor": 0,
  "metadata": {
    "anaconda-cloud": {},
    "kernelspec": {
      "display_name": "Python 3",
      "language": "python",
      "name": "python3"
    },
    "language_info": {
      "codemirror_mode": {
        "name": "ipython",
        "version": 3
      },
      "file_extension": ".py",
      "mimetype": "text/x-python",
      "name": "python",
      "nbconvert_exporter": "python",
      "pygments_lexer": "ipython3",
      "version": "3.6.5"
    },
    "colab": {
      "name": "Desafio 8.ipynb",
      "provenance": [],
      "include_colab_link": true
    }
  },
  "cells": [
    {
      "cell_type": "markdown",
      "metadata": {
        "id": "view-in-github",
        "colab_type": "text"
      },
      "source": [
        "<a href=\"https://colab.research.google.com/github/dancbatista/br-python-challenges/blob/master/Desafio_08.ipynb\" target=\"_parent\"><img src=\"https://colab.research.google.com/assets/colab-badge.svg\" alt=\"Open In Colab\"/></a>"
      ]
    },
    {
      "cell_type": "markdown",
      "metadata": {
        "id": "o3tkeMDNf6Jo"
      },
      "source": [
        "### Desafio 8\n",
        "\n",
        "Escreva um script Python para encontrar as 10 palavras mais longas em um arquivo.\n",
        "\n",
        "O arquivo TXT está localizado na mesma pasta do projeto (texto.txt)."
      ]
    },
    {
      "cell_type": "code",
      "metadata": {
        "id": "EknxjSG0f6Jo",
        "colab": {
          "base_uri": "https://localhost:8080/"
        },
        "outputId": "dc2f3592-54af-4cb7-d0e7-f2eb596926ea"
      },
      "source": [
        "# Seu código\n",
        "import urllib.request\n",
        "import string\n",
        "\n",
        "\n",
        "url = \"https://raw.githubusercontent.com/dancbatista/br-python-challenges/master/texto.txt\"\n",
        "arquivo = urllib.request.urlopen(url)\n",
        "pontuacao = string.punctuation\n",
        "\n",
        "for linha in arquivo:\n",
        "  linha_decodificada = linha.decode(\"utf-8\")\n",
        "  texto_sem_pontuacao = [letra if letra not in pontuacao else \" \" for letra in linha_decodificada]\n",
        "  texto_sem_pontuacao = \"\".join(texto_sem_pontuacao)\n",
        "  palavras_unicas = list(set(texto_sem_pontuacao.split()))\n",
        "print(sorted(palavras_unicas, key=len)[-10::])\n",
        "\n",
        "\n"
      ],
      "execution_count": 111,
      "outputs": [
        {
          "output_type": "stream",
          "text": [
            "['paradigms', 'automatic', 'questions', 'imperative', 'procedural', 'management', 'functional', 'programming', 'intermediate', 'comprehensive']\n"
          ],
          "name": "stdout"
        }
      ]
    },
    {
      "cell_type": "code",
      "metadata": {
        "id": "ZYbqEWBG5nKx"
      },
      "source": [
        ""
      ],
      "execution_count": null,
      "outputs": []
    }
  ]
}